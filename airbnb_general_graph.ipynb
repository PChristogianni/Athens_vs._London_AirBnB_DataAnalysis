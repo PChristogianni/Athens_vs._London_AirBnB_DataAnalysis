{
 "cells": [
  {
   "cell_type": "markdown",
   "metadata": {},
   "source": [
    "# The impact of Covid-19 on AirBnB stays in London and Athens"
   ]
  },
  {
   "cell_type": "code",
   "execution_count": 1,
   "metadata": {},
   "outputs": [],
   "source": [
    "import datetime\n",
    "import re\n",
    "import matplotlib.pyplot as plt\n",
    "import numpy as np\n",
    "import pandas as pd\n",
    "import requests\n",
    "import seaborn as sns"
   ]
  },
  {
   "cell_type": "markdown",
   "metadata": {},
   "source": [
    "## Notes\n",
    "* The two dataframes are imported from the URLs\n",
    "* Then a new column is created with the corresponding city names\n",
    "* Then a combined dataframe is created using the concat function\n",
    "* Finally, a histogram is plotted with the count of reviews vs. year"
   ]
  },
  {
   "cell_type": "code",
   "execution_count": 2,
   "metadata": {},
   "outputs": [],
   "source": [
    "def create_dfs(london_url, athens_url):\n",
    "    london=pd.read_csv(london_url, index_col=\"listing_id\")\n",
    "    athens=pd.read_csv(athens_url, index_col=\"listing_id\")\n",
    "    london['city']='London'\n",
    "    athens['city']='Athens'\n",
    "\n",
    "    df_all=pd.concat([london, athens], axis=0)\n",
    "\n",
    "    df_all['date'] =  pd.to_datetime(df_all['date'], infer_datetime_format=True)\n",
    "    df_all['year'] = pd.DatetimeIndex(df_all['date']).year\n",
    "    df_all=df_all.sort_values('year',ascending=False)\n",
    "    return df_all\n",
    "\n",
    "\n",
    "def plot_data(df):\n",
    "    sns.histplot(data=df, x=\"year\", hue='city',multiple=\"dodge\", shrink=.8, discrete=True)\n",
    "    # df['year'].value_counts().plot(kind='bar',title='Count of Reviews by Year')\n",
    "    # plt.legend(['Athens', 'London'])\n",
    "    plt.show()"
   ]
  },
  {
   "cell_type": "code",
   "execution_count": 3,
   "metadata": {},
   "outputs": [
    {
     "name": "stdout",
     "output_type": "stream",
     "text": [
      "                         date    city  year\n",
      "listing_id                                 \n",
      "605617198416835367 2022-05-23  London  2022\n",
      "49361737           2022-03-13  London  2022\n",
      "32376486           2022-07-01  London  2022\n",
      "32376486           2022-06-08  London  2022\n",
      "32376486           2022-07-10  London  2022\n",
      "...                       ...     ...   ...\n",
      "25123              2010-07-25  London  2010\n",
      "25123              2010-09-28  London  2010\n",
      "42010              2010-12-28  London  2010\n",
      "15400              2010-10-02  London  2010\n",
      "15400              2009-12-21  London  2009\n",
      "\n",
      "[1752910 rows x 3 columns]\n"
     ]
    },
    {
     "data": {
      "image/png": "[encoded data removed]",
      "text/plain": [
       "<Figure size 640x480 with 1 Axes>"
      ]
     },
     "metadata": {},
     "output_type": "display_data"
    }
   ],
   "source": [
    "    df = create_dfs('http://data.insideairbnb.com/united-kingdom/england/london/2022-09-10/visualisations/reviews.csv',\n",
    "    'http://data.insideairbnb.com/greece/attica/athens/2022-09-20/visualisations/reviews.csv')\n",
    "    print(df)\n",
    "    plot_data(df) "
   ]
  },
  {
   "cell_type": "markdown",
   "metadata": {},
   "source": [
    "## Graph Observations\n",
    "The graph presents the number of counts of AirBnB reviews per year from 2009 until 2022 in London (blue) and in Athens (orange).\n",
    "Assuming that the number of reviews corresponds to the number of AirBnB stays we can make the following observations.\n",
    "* The number of people using AirBnB in London is 2 to 3 times higher compared to Athens. This can be explained by the fact that London is in the top 3 of the most visited cities in the world.\n",
    "* For both cities the use of AirBnB seems to be increasing exponentially upto 2019.\n",
    "* In 2020 and 2021 a sudden and deep decrease in AirBnB uses was observed which can be explained by the restrictions of travelling during the COVID-19 pandemic. Both cities are popular for international tourism and the graph shows how significantly they have been impacted during the coronavirus outbreak."
   ]
  }
 ],
 "metadata": {
  "kernelspec": {
   "display_name": "Python 3.11.0 64-bit",
   "language": "python",
   "name": "python3"
  },
  "language_info": {
   "codemirror_mode": {
    "name": "ipython",
    "version": 3
   },
   "file_extension": ".py",
   "mimetype": "text/x-python",
   "name": "python",
   "nbconvert_exporter": "python",
   "pygments_lexer": "ipython3",
   "version": "3.11.0"
  },
  "orig_nbformat": 4,
  "vscode": {
   "interpreter": {
    "hash": "97e5375c3840e3214e4ccc2fc0830a2f522441f6f2e5f19013684f2adefdd44a"
   }
  }
 },
 "nbformat": 4,
 "nbformat_minor": 2
}
